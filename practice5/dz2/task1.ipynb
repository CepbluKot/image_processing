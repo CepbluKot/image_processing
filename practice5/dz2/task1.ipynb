{
  "cells": [
    {
      "cell_type": "code",
      "execution_count": 1,
      "metadata": {
        "id": "timVyd8L6Rv4"
      },
      "outputs": [],
      "source": [
        "import torch\n",
        "import torch.nn as nn\n",
        "import torch.optim as optim\n",
        "import torchvision\n",
        "import torchvision.transforms as transforms\n",
        "from torch.utils.data import DataLoader, random_split\n",
        "from sklearn.metrics import accuracy_score, recall_score, precision_score, f1_score\n",
        "import numpy as np\n",
        "import torch.nn.functional as F\n",
        "from imutils import paths\n",
        "import matplotlib.pyplot as plt"
      ]
    },
    {
      "cell_type": "code",
      "execution_count": 2,
      "metadata": {},
      "outputs": [
        {
          "name": "stdout",
          "output_type": "stream",
          "text": [
            "Downloading https://sid.erda.dk/public/archives/daaeac0d7ce1152aea9b61d9f1e19370/GTSRB-Training_fixed.zip to data/gtsrb/GTSRB-Training_fixed.zip\n"
          ]
        },
        {
          "name": "stderr",
          "output_type": "stream",
          "text": [
            "100%|██████████| 187490228/187490228 [02:51<00:00, 1095612.56it/s]\n"
          ]
        },
        {
          "name": "stdout",
          "output_type": "stream",
          "text": [
            "Extracting data/gtsrb/GTSRB-Training_fixed.zip to data/gtsrb\n"
          ]
        },
        {
          "data": {
            "text/plain": [
              "Dataset GTSRB\n",
              "    Number of datapoints: 26640\n",
              "    Root location: ./data\n",
              "    StandardTransform\n",
              "Transform: Compose(\n",
              "               Resize(size=[112, 112], interpolation=bilinear, max_size=None, antialias=warn)\n",
              "               ToTensor()\n",
              "           )"
            ]
          },
          "execution_count": 2,
          "metadata": {},
          "output_type": "execute_result"
        }
      ],
      "source": [
        "data_transforms = transforms.Compose([\n",
        "    transforms.Resize([112, 112]),\n",
        "    transforms.ToTensor()\n",
        "    ])\n",
        "torchvision.datasets.GTSRB(root='./data', split=\"train\", download=True, transform=data_transforms)"
      ]
    },
    {
      "cell_type": "code",
      "execution_count": 3,
      "metadata": {},
      "outputs": [],
      "source": [
        "BATCH_SIZE = 256\n",
        "learning_rate = 0.001\n",
        "EPOCHS = 15\n",
        "numClasses = 43"
      ]
    },
    {
      "cell_type": "code",
      "execution_count": 4,
      "metadata": {},
      "outputs": [
        {
          "name": "stdout",
          "output_type": "stream",
          "text": [
            "Number of training samples = 21312\n",
            "Number of validation samples = 5328\n"
          ]
        }
      ],
      "source": [
        "train_data_path = \"./data/gtsrb/GTSRB/Training\"\n",
        "train_data = torchvision.datasets.ImageFolder(root = train_data_path, transform = data_transforms)\n",
        "\n",
        "ratio = 0.8\n",
        "n_train_examples = int(len(train_data) * ratio)\n",
        "n_val_examples = len(train_data) - n_train_examples\n",
        "\n",
        "train_data, val_data = random_split(train_data, [n_train_examples, n_val_examples])\n",
        "\n",
        "print(f\"Number of training samples = {len(train_data)}\")\n",
        "print(f\"Number of validation samples = {len(val_data)}\")\n",
        "\n",
        "\n",
        "trainloader = DataLoader(train_data, shuffle=True, batch_size = BATCH_SIZE)\n",
        "valloader = DataLoader(val_data, shuffle=True, batch_size = BATCH_SIZE)"
      ]
    },
    {
      "cell_type": "code",
      "execution_count": 5,
      "metadata": {},
      "outputs": [],
      "source": [
        "class SimpleNet(nn.Module):\n",
        "    def __init__(self, output_dim):\n",
        "        super().__init__()\n",
        "        \n",
        "        self.features = nn.Sequential(\n",
        "            nn.Conv2d(in_channels=3, out_channels=16, kernel_size=3, stride=2, padding=1),\n",
        "            nn.MaxPool2d(kernel_size=2),\n",
        "\n",
        "            )\n",
        "        \n",
        "        self.classifier = nn.Sequential(\n",
        "            nn.Dropout(0.5),\n",
        "            \n",
        "            nn.Linear(12544, output_dim)\n",
        "            )\n",
        "        \n",
        "    def forward(self, x):\n",
        "        x = self.features(x)\n",
        "        h = x.view(x.shape[0], -1)\n",
        "        x = self.classifier(h)\n",
        "        return x, h"
      ]
    },
    {
      "cell_type": "code",
      "execution_count": 6,
      "metadata": {},
      "outputs": [],
      "source": [
        "def evaluate( model, loader):\n",
        "    model.eval()\n",
        "    y_true = []\n",
        "    y_pred = []\n",
        "\n",
        "    with torch.no_grad():\n",
        "        for (images, labels) in loader:\n",
        "\n",
        "            # Run predictions\n",
        "            output, _ = model(images)\n",
        "            _, predicted = torch.max(output, 1)\n",
        " \n",
        "            y_pred.extend(predicted.numpy())\n",
        "            y_true.extend(labels.numpy())\n",
        "\n",
        "    \n",
        "    accuracy = accuracy_score(y_true, y_pred)\n",
        "    recall = recall_score(y_true, y_pred, average='macro')\n",
        "    precision = precision_score(y_true, y_pred, average='macro')\n",
        "    f1 = f1_score(y_true, y_pred, average='macro')\n",
        "    return accuracy, recall, precision, f1"
      ]
    },
    {
      "cell_type": "code",
      "execution_count": 7,
      "metadata": {},
      "outputs": [],
      "source": [
        "# Function to perform training of the model\n",
        "\n",
        "def train(model, loader, opt, criterion):\n",
        "    epoch_loss = 0\n",
        "    epoch_acc = 0\n",
        "    \n",
        "    # Train the model\n",
        "    model.train()\n",
        "    \n",
        "    for (images, labels) in loader:\n",
        "\n",
        "        \n",
        "        # Training pass\n",
        "        opt.zero_grad()\n",
        "        \n",
        "        output, _ = model(images)\n",
        "        loss = criterion(output, labels)\n",
        "        \n",
        "        # Backpropagation\n",
        "        loss.backward()\n",
        "        \n",
        "\n",
        "        # Optimizing weights\n",
        "        opt.step()\n",
        "        \n",
        "        epoch_loss += loss.item()\n",
        "\n",
        "    accuracy, recall, precision, f1 = evaluate(model, loader)\n",
        "\n",
        "    return epoch_loss / len(loader), accuracy, recall, precision, f1"
      ]
    },
    {
      "cell_type": "code",
      "execution_count": 8,
      "metadata": {
        "id": "tSv0GFCDOsky"
      },
      "outputs": [
        {
          "name": "stderr",
          "output_type": "stream",
          "text": [
            "/home/oleg/.local/lib/python3.10/site-packages/sklearn/metrics/_classification.py:1469: UndefinedMetricWarning: Precision is ill-defined and being set to 0.0 in labels with no predicted samples. Use `zero_division` parameter to control this behavior.\n",
            "  _warn_prf(average, modifier, msg_start, len(result))\n",
            "/home/oleg/.local/lib/python3.10/site-packages/sklearn/metrics/_classification.py:1469: UndefinedMetricWarning: Precision is ill-defined and being set to 0.0 in labels with no predicted samples. Use `zero_division` parameter to control this behavior.\n",
            "  _warn_prf(average, modifier, msg_start, len(result))\n"
          ]
        },
        {
          "name": "stdout",
          "output_type": "stream",
          "text": [
            "Epoch 1, Loss: 2.236\n",
            "Training - Accuracy: 0.6798986486486487, Recall: 0.62571207040247, Precision: 0.7485890232304211, F1 Score: 0.6387002645313572\n",
            "Validation - Accuracy: 0.6681681681681682, Recall: 0.6040506833796767, Precision: 0.7096076341990543, F1 Score: 0.6157110817239281\n",
            "Epoch 2, Loss: 1.040\n",
            "Training - Accuracy: 0.8309872372372372, Recall: 0.8213343420146515, Precision: 0.8785026137480902, F1 Score: 0.8366278678385671\n",
            "Validation - Accuracy: 0.8125, Recall: 0.7921936519422572, Precision: 0.8591085819378569, F1 Score: 0.8077971822990254\n",
            "Epoch 3, Loss: 0.745\n",
            "Training - Accuracy: 0.8606418918918919, Recall: 0.8499857014252824, Precision: 0.8952744901926827, F1 Score: 0.8650487163347012\n",
            "Validation - Accuracy: 0.8367117117117117, Recall: 0.8148306690668565, Precision: 0.8712461013507896, F1 Score: 0.8308325665536691\n",
            "Epoch 4, Loss: 0.598\n",
            "Training - Accuracy: 0.9047954204204204, Recall: 0.9039883481326745, Precision: 0.927281075433253, F1 Score: 0.912061884947181\n",
            "Validation - Accuracy: 0.8860735735735735, Recall: 0.88267073289737, Precision: 0.9117328000755532, F1 Score: 0.8922826405440694\n",
            "Epoch 5, Loss: 0.516\n",
            "Training - Accuracy: 0.909206081081081, Recall: 0.8990098983281608, Precision: 0.9405648076787032, F1 Score: 0.9126323369379761\n",
            "Validation - Accuracy: 0.8881381381381381, Recall: 0.8698644736068547, Precision: 0.9211529274170462, F1 Score: 0.8848218173214246\n",
            "Epoch 6, Loss: 0.467\n",
            "Training - Accuracy: 0.9242210960960962, Recall: 0.928161803567471, Precision: 0.9474015129866465, F1 Score: 0.9362924367993681\n",
            "Validation - Accuracy: 0.8995870870870871, Recall: 0.8999264885253173, Precision: 0.9187009578211882, F1 Score: 0.9062644403353826\n"
          ]
        }
      ],
      "source": [
        "net = SimpleNet(numClasses)\n",
        "criterion = nn.CrossEntropyLoss()\n",
        "optimizer = optim.Adam(net.parameters(), lr=learning_rate)\n",
        "val_accuracy = 0\n",
        "\n",
        "epoch = 1\n",
        "\n",
        "net_losses = []\n",
        "\n",
        "net_accuracies_train = []\n",
        "net_recalls_train = []\n",
        "net_precisions_train = []\n",
        "net_f1_train = []\n",
        "\n",
        "net_accuracies_val = []\n",
        "net_recalls_val = []\n",
        "net_precisions_val = []\n",
        "net_f1_val = []\n",
        "\n",
        "\n",
        "while val_accuracy < 0.95:\n",
        "    train_loss, train_accuracy, train_recall, train_precision, train_f1 = train(net, trainloader, optimizer, criterion)\n",
        "\n",
        "    val_accuracy, val_recall, val_precision, val_f1 = evaluate(net, valloader)\n",
        "\n",
        "\n",
        "\n",
        "\n",
        "    print(f'Epoch {epoch }, Loss: {train_loss:.3f}')\n",
        "\n",
        "    print(f'Training - Accuracy: {train_accuracy}, Recall: {train_recall}, Precision: {train_precision}, F1 Score: {train_f1}')\n",
        "\n",
        "    print(f'Validation - Accuracy: {val_accuracy}, Recall: {val_recall}, Precision: {val_precision}, F1 Score: {val_f1}')\n",
        "    \n",
        "\n",
        "    net_losses.append(train_loss)\n",
        "    \n",
        "    net_accuracies_train.append(train_accuracy)\n",
        "    net_recalls_train.append(train_recall)\n",
        "    net_precisions_train.append(train_precision)\n",
        "    net_f1_train.append(train_f1)\n",
        "\n",
        "    net_accuracies_val.append(val_accuracy)\n",
        "    net_recalls_val.append(val_recall)\n",
        "    net_precisions_val.append(val_precision)\n",
        "    net_f1_val.append(val_f1)\n",
        "\n",
        "    epoch += 1\n",
        "\n",
        "print('Finished Training')"
      ]
    },
    {
      "cell_type": "code",
      "execution_count": null,
      "metadata": {},
      "outputs": [],
      "source": [
        "plt.plot(list(range(len(net_losses))), net_losses, label='Loss')\n",
        "plt.legend()"
      ]
    },
    {
      "cell_type": "code",
      "execution_count": null,
      "metadata": {},
      "outputs": [],
      "source": [
        "plt.plot(list(range(len(net_accuracies_train))), net_accuracies_train, label='Train Accuracy')\n",
        "plt.plot(list(range(len(net_accuracies_val))), net_accuracies_val, label='Val Accuracy')\n",
        "plt.legend()"
      ]
    },
    {
      "cell_type": "code",
      "execution_count": null,
      "metadata": {},
      "outputs": [],
      "source": [
        "plt.plot(list(range(len(net_recalls_train))), net_recalls_train, label='Train Recall')\n",
        "plt.plot(list(range(len(net_recalls_val))), net_recalls_val, label='Val Recall')\n",
        "plt.legend()"
      ]
    },
    {
      "cell_type": "code",
      "execution_count": null,
      "metadata": {},
      "outputs": [],
      "source": [
        "plt.plot(list(range(len(net_precisions_train))), net_precisions_train, label='Train Precision')\n",
        "plt.plot(list(range(len(net_precisions_val))), net_precisions_val, label='Val Precision')\n",
        "plt.legend()"
      ]
    },
    {
      "cell_type": "code",
      "execution_count": null,
      "metadata": {},
      "outputs": [],
      "source": [
        "plt.plot(list(range(len(net_f1_train))), net_f1_train, label='Train F1')\n",
        "plt.plot(list(range(len(net_f1_val))), net_f1_val, label='Val F1')\n",
        "plt.legend()"
      ]
    }
  ],
  "metadata": {
    "accelerator": "GPU",
    "colab": {
      "gpuType": "T4",
      "provenance": []
    },
    "kernelspec": {
      "display_name": "Python 3",
      "language": "python",
      "name": "python3"
    },
    "language_info": {
      "codemirror_mode": {
        "name": "ipython",
        "version": 3
      },
      "file_extension": ".py",
      "mimetype": "text/x-python",
      "name": "python",
      "nbconvert_exporter": "python",
      "pygments_lexer": "ipython3",
      "version": "3.10.12"
    }
  },
  "nbformat": 4,
  "nbformat_minor": 0
}
