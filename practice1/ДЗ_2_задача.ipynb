{
  "cells": [
    {
      "cell_type": "code",
      "execution_count": 2,
      "metadata": {
        "id": "JHBycq41ZDrw"
      },
      "outputs": [],
      "source": [
        "import time, datetime\n",
        "import cv2\n",
        "import numpy as np\n",
        "import matplotlib.pyplot as plt\n",
        "\n",
        "from skimage import io"
      ]
    },
    {
      "cell_type": "markdown",
      "metadata": {},
      "source": [
        "# Домашнее задание 2 - сделать детектор движения"
      ]
    },
    {
      "cell_type": "code",
      "execution_count": 3,
      "metadata": {},
      "outputs": [],
      "source": [
        "delay_ms = 0\n",
        "sensitivity = 50000\n"
      ]
    },
    {
      "cell_type": "code",
      "execution_count": 4,
      "metadata": {},
      "outputs": [],
      "source": [
        "def getCurrentAndPrevFrames(cam: cv2.VideoCapture, delay_ms: int=None):\n",
        "    _, prev_frame = cam.read()\n",
        "    \n",
        "    if delay_ms:\n",
        "        time.sleep(delay_ms / 1000)\n",
        "    \n",
        "    _, curr_frame = cam.read()\n",
        "    return prev_frame, curr_frame\n",
        "\n",
        "\n",
        "def frameDifference(current_frame: cv2.Mat, previous_frame: cv2.Mat) -> cv2.Mat:\n",
        "    current_frame_gray = cv2.cvtColor(current_frame, cv2.COLOR_BGR2GRAY)\n",
        "    previous_frame_gray = cv2.cvtColor(previous_frame, cv2.COLOR_BGR2GRAY)\n",
        "\n",
        "    frame_diff = cv2.absdiff(current_frame_gray,previous_frame_gray)\n",
        "\n",
        "    return frame_diff\n",
        "\n",
        "\n",
        "def checkMovement(frame_diff: cv2.Mat, sensitivity: int):\n",
        "    # считаем кол-во пикселов со значением >= 2 ( как раз то что выделяется)\n",
        "    # если больше чувствиетльности, то значет что то там двигается \n",
        "    \n",
        "    w = frame_diff.shape[0]\n",
        "    h = frame_diff.shape[1]\n",
        "\n",
        "    counter = 0\n",
        "\n",
        "    for i in range(w):\n",
        "        for j in range(h):\n",
        "\n",
        "            if frame_diff[i, j] >= 2:\n",
        "                counter += 1\n",
        "    \n",
        "    if counter >= sensitivity:\n",
        "        return True\n"
      ]
    },
    {
      "cell_type": "code",
      "execution_count": 5,
      "metadata": {
        "id": "v6XJi3mvy-xU"
      },
      "outputs": [
        {
          "name": "stderr",
          "output_type": "stream",
          "text": [
            "qt.qpa.plugin: Could not find the Qt platform plugin \"wayland\" in \"/home/oleg/.local/lib/python3.10/site-packages/cv2/qt/plugins\"\n"
          ]
        },
        {
          "name": "stdout",
          "output_type": "stream",
          "text": [
            "\n",
            "[ 16:32:51.928441 ] movement detected\n",
            "\n",
            "[ 16:32:52.795505 ] movement detected\n",
            "\n",
            "[ 16:32:53.235692 ] movement detected\n",
            "\n",
            "[ 16:32:53.674368 ] movement detected\n",
            "\n",
            "[ 16:32:58.450436 ] movement detected\n",
            "\n",
            "[ 16:32:58.896716 ] movement detected\n",
            "\n",
            "[ 16:32:59.339097 ] movement detected\n",
            "\n",
            "[ 16:32:59.769588 ] movement detected\n"
          ]
        }
      ],
      "source": [
        "cam = cv2.VideoCapture(2)\n",
        "\n",
        "while True:\n",
        "    prev_frame, curr_frame = getCurrentAndPrevFrames(cam, delay_ms)\n",
        "\n",
        "    prev_frame = cv2.GaussianBlur(prev_frame,(13,13),0)\n",
        "    curr_frame = cv2.GaussianBlur(curr_frame,(13,13),0)\n",
        "\n",
        "    frame_diff = frameDifference(curr_frame, prev_frame)\n",
        "    cv2.imshow('frame', frame_diff)\n",
        "    \n",
        "    check_mv = checkMovement(frame_diff, sensitivity)\n",
        "\n",
        "    if check_mv:\n",
        "        print( '\\n[' ,str(datetime.datetime.now().time() ), '] movement detected')\n",
        "\n",
        "    if cv2.waitKey(1) == ord('q'):\n",
        "        break\n",
        "\n",
        "\n",
        "cam.release()\n",
        "cv2.destroyAllWindows()"
      ]
    }
  ],
  "metadata": {
    "colab": {
      "provenance": []
    },
    "kernelspec": {
      "display_name": "Python 3",
      "name": "python3"
    },
    "language_info": {
      "codemirror_mode": {
        "name": "ipython",
        "version": 3
      },
      "file_extension": ".py",
      "mimetype": "text/x-python",
      "name": "python",
      "nbconvert_exporter": "python",
      "pygments_lexer": "ipython3",
      "version": "3.10.12"
    }
  },
  "nbformat": 4,
  "nbformat_minor": 0
}
